{
  "nbformat": 4,
  "nbformat_minor": 0,
  "metadata": {
    "colab": {
      "name": "multi_objective_example.ipynb",
      "provenance": [],
      "collapsed_sections": []
    },
    "kernelspec": {
      "display_name": "Python 3",
      "name": "python3"
    }
  },
  "cells": [
    {
      "cell_type": "markdown",
      "source": [
        "#Multi-objective Optimization Test Case - Kursawe Function\n",
        "In this is example we will be solving the [Kursawe function](https://drive.google.com/file/d/1yiCQysLgRxc-MdeCbOTuMGkl3hadgS4f/view?usp=sharing) using NSGA 3. Kursawe is a popular test function used to test different multi-objective optimizations \n",
        "\n",
        "This is what the solution should look like ![Kursawe](https://upload.wikimedia.org/wikipedia/commons/thumb/5/53/Kursawe_function.pdf/page1-796px-Kursawe_function.pdf.jpg)\n"
      ],
      "metadata": {
        "id": "HWIxg0g3Rtrj"
      }
    },
    {
      "cell_type": "markdown",
      "source": [
        "###Step 1: Cloning the Project (House keeping)\n",
        "Lets clone the test project in Glennopt. We will need the test folder located in `GlennOPT/test/kur/serial`"
      ],
      "metadata": {
        "id": "kzZFUYXQTz62"
      }
    },
    {
      "cell_type": "code",
      "execution_count": 9,
      "source": [
        "# Clone the source code for GlennOPT\n",
        "!git clone https://github.com/nasa/GlennOPT.git\n",
        "# Little Housekeeping\n",
        "!cp -r GlennOPT/test/kur/serial/Evaluation .    # Copy the folder we need \n",
        "!rm GlennOPT/ -r        # Deletes GlennOPT source code. We don't need this anymore"
      ],
      "outputs": [
        {
          "output_type": "stream",
          "name": "stdout",
          "text": [
            "Cloning into 'GlennOPT'...\n",
            "remote: Enumerating objects: 44335, done.\u001b[K\n",
            "remote: Counting objects:   0% (1/5642)\u001b[K\rremote: Counting objects:   1% (57/5642)\u001b[K\rremote: Counting objects:   2% (113/5642)\u001b[K\rremote: Counting objects:   3% (170/5642)\u001b[K\rremote: Counting objects:   4% (226/5642)\u001b[K\rremote: Counting objects:   5% (283/5642)\u001b[K\rremote: Counting objects:   6% (339/5642)\u001b[K\rremote: Counting objects:   7% (395/5642)\u001b[K\rremote: Counting objects:   8% (452/5642)\u001b[K\rremote: Counting objects:   9% (508/5642)\u001b[K\rremote: Counting objects:  10% (565/5642)\u001b[K\rremote: Counting objects:  11% (621/5642)\u001b[K\rremote: Counting objects:  12% (678/5642)\u001b[K\rremote: Counting objects:  13% (734/5642)\u001b[K\rremote: Counting objects:  14% (790/5642)\u001b[K\rremote: Counting objects:  15% (847/5642)\u001b[K\rremote: Counting objects:  16% (903/5642)\u001b[K\rremote: Counting objects:  17% (960/5642)\u001b[K\rremote: Counting objects:  18% (1016/5642)\u001b[K\rremote: Counting objects:  19% (1072/5642)\u001b[K\rremote: Counting objects:  20% (1129/5642)\u001b[K\rremote: Counting objects:  21% (1185/5642)\u001b[K\rremote: Counting objects:  22% (1242/5642)\u001b[K\rremote: Counting objects:  23% (1298/5642)\u001b[K\rremote: Counting objects:  24% (1355/5642)\u001b[K\rremote: Counting objects:  25% (1411/5642)\u001b[K\rremote: Counting objects:  26% (1467/5642)\u001b[K\rremote: Counting objects:  27% (1524/5642)\u001b[K\rremote: Counting objects:  28% (1580/5642)\u001b[K\rremote: Counting objects:  29% (1637/5642)\u001b[K\rremote: Counting objects:  30% (1693/5642)\u001b[K\rremote: Counting objects:  31% (1750/5642)\u001b[K\rremote: Counting objects:  32% (1806/5642)\u001b[K\rremote: Counting objects:  33% (1862/5642)\u001b[K\rremote: Counting objects:  34% (1919/5642)\u001b[K\rremote: Counting objects:  35% (1975/5642)\u001b[K\rremote: Counting objects:  36% (2032/5642)\u001b[K\rremote: Counting objects:  37% (2088/5642)\u001b[K\rremote: Counting objects:  38% (2144/5642)\u001b[K\rremote: Counting objects:  39% (2201/5642)\u001b[K\rremote: Counting objects:  40% (2257/5642)\u001b[K\rremote: Counting objects:  41% (2314/5642)\u001b[K\rremote: Counting objects:  42% (2370/5642)\u001b[K\rremote: Counting objects:  43% (2427/5642)\u001b[K\rremote: Counting objects:  44% (2483/5642)\u001b[K\rremote: Counting objects:  45% (2539/5642)\u001b[K\rremote: Counting objects:  46% (2596/5642)\u001b[K\rremote: Counting objects:  47% (2652/5642)\u001b[K\rremote: Counting objects:  48% (2709/5642)\u001b[K\rremote: Counting objects:  49% (2765/5642)\u001b[K\rremote: Counting objects:  50% (2821/5642)\u001b[K\rremote: Counting objects:  51% (2878/5642)\u001b[K\rremote: Counting objects:  52% (2934/5642)\u001b[K\rremote: Counting objects:  53% (2991/5642)\u001b[K\rremote: Counting objects:  54% (3047/5642)\u001b[K\rremote: Counting objects:  55% (3104/5642)\u001b[K\rremote: Counting objects:  56% (3160/5642)\u001b[K\rremote: Counting objects:  57% (3216/5642)\u001b[K\rremote: Counting objects:  58% (3273/5642)\u001b[K\rremote: Counting objects:  59% (3329/5642)\u001b[K\rremote: Counting objects:  60% (3386/5642)\u001b[K\rremote: Counting objects:  61% (3442/5642)\u001b[K\rremote: Counting objects:  62% (3499/5642)\u001b[K\rremote: Counting objects:  63% (3555/5642)\u001b[K\rremote: Counting objects:  64% (3611/5642)\u001b[K\rremote: Counting objects:  65% (3668/5642)\u001b[K\rremote: Counting objects:  66% (3724/5642)\u001b[K\rremote: Counting objects:  67% (3781/5642)\u001b[K\rremote: Counting objects:  68% (3837/5642)\u001b[K\rremote: Counting objects:  69% (3893/5642)\u001b[K\rremote: Counting objects:  70% (3950/5642)\u001b[K\rremote: Counting objects:  71% (4006/5642)\u001b[K\rremote: Counting objects:  72% (4063/5642)\u001b[K\rremote: Counting objects:  73% (4119/5642)\u001b[K\rremote: Counting objects:  74% (4176/5642)\u001b[K\rremote: Counting objects:  75% (4232/5642)\u001b[K\rremote: Counting objects:  76% (4288/5642)\u001b[K\rremote: Counting objects:  77% (4345/5642)\u001b[K\rremote: Counting objects:  78% (4401/5642)\u001b[K\rremote: Counting objects:  79% (4458/5642)\u001b[K\rremote: Counting objects:  80% (4514/5642)\u001b[K\rremote: Counting objects:  81% (4571/5642)\u001b[K\rremote: Counting objects:  82% (4627/5642)\u001b[K\rremote: Counting objects:  83% (4683/5642)\u001b[K\rremote: Counting objects:  84% (4740/5642)\u001b[K\rremote: Counting objects:  85% (4796/5642)\u001b[K\rremote: Counting objects:  86% (4853/5642)\u001b[K\rremote: Counting objects:  87% (4909/5642)\u001b[K\rremote: Counting objects:  88% (4965/5642)\u001b[K\rremote: Counting objects:  89% (5022/5642)\u001b[K\rremote: Counting objects:  90% (5078/5642)\u001b[K\rremote: Counting objects:  91% (5135/5642)\u001b[K\rremote: Counting objects:  92% (5191/5642)\u001b[K\rremote: Counting objects:  93% (5248/5642)\u001b[K\rremote: Counting objects:  94% (5304/5642)\u001b[K\rremote: Counting objects:  95% (5360/5642)\u001b[K\rremote: Counting objects:  96% (5417/5642)\u001b[K\rremote: Counting objects:  97% (5473/5642)\u001b[K\rremote: Counting objects:  98% (5530/5642)\u001b[K\rremote: Counting objects:  99% (5586/5642)\u001b[K\rremote: Counting objects: 100% (5642/5642)\u001b[K\rremote: Counting objects: 100% (5642/5642), done.\u001b[K\n",
            "remote: Compressing objects: 100% (4040/4040), done.\u001b[K\n",
            "remote: Total 44335 (delta 2676), reused 3890 (delta 1496), pack-reused 38693\u001b[K\n",
            "Receiving objects: 100% (44335/44335), 25.71 MiB | 26.92 MiB/s, done.\n",
            "Resolving deltas: 100% (12853/12853), done.\n"
          ]
        }
      ],
      "metadata": {
        "id": "-gE-Ez1qtyIA",
        "outputId": "0bfcd281-9071-4126-ae4d-f3eb6665fde7",
        "colab": {
          "base_uri": "https://localhost:8080/"
        }
      }
    },
    {
      "cell_type": "code",
      "execution_count": null,
      "source": [
        "# Install GlennOPT \n",
        "!python --version\n",
        "!pip install glennopt\n",
        "# Restart the runtime\n",
        "import os\n",
        "os.kill(os.getpid(), 9)"
      ],
      "outputs": [
        {
          "output_type": "stream",
          "name": "stdout",
          "text": [
            "Python 3.7.13\n",
            "Looking in indexes: https://pypi.org/simple, https://us-python.pkg.dev/colab-wheels/public/simple/\n",
            "Requirement already satisfied: glennopt in /usr/local/lib/python3.7/dist-packages (1.4.3)\n",
            "Requirement already satisfied: diversipy in /usr/local/lib/python3.7/dist-packages (from glennopt) (0.8)\n",
            "Requirement already satisfied: psutil in /usr/local/lib/python3.7/dist-packages (from glennopt) (5.4.8)\n",
            "Requirement already satisfied: torch in /usr/local/lib/python3.7/dist-packages (from glennopt) (1.11.0+cu113)\n",
            "Requirement already satisfied: tqdm in /usr/local/lib/python3.7/dist-packages (from glennopt) (4.64.0)\n",
            "Requirement already satisfied: dataclasses_json in /usr/local/lib/python3.7/dist-packages (from glennopt) (0.5.7)\n",
            "Requirement already satisfied: doepy in /usr/local/lib/python3.7/dist-packages (from glennopt) (0.0.1)\n",
            "Requirement already satisfied: pandas in /usr/local/lib/python3.7/dist-packages (from glennopt) (1.3.5)\n",
            "Requirement already satisfied: sklearn in /usr/local/lib/python3.7/dist-packages (from glennopt) (0.0)\n",
            "Requirement already satisfied: numpy in /usr/local/lib/python3.7/dist-packages (from glennopt) (1.21.6)\n",
            "Requirement already satisfied: matplotlib<4.0.0,>=3.3.1 in /usr/local/lib/python3.7/dist-packages (from glennopt) (3.5.2)\n",
            "Requirement already satisfied: pydoe in /usr/local/lib/python3.7/dist-packages (from glennopt) (0.3.8)\n",
            "Requirement already satisfied: pillow>=6.2.0 in /usr/local/lib/python3.7/dist-packages (from matplotlib<4.0.0,>=3.3.1->glennopt) (7.1.2)\n",
            "Requirement already satisfied: python-dateutil>=2.7 in /usr/local/lib/python3.7/dist-packages (from matplotlib<4.0.0,>=3.3.1->glennopt) (2.8.2)\n",
            "Requirement already satisfied: kiwisolver>=1.0.1 in /usr/local/lib/python3.7/dist-packages (from matplotlib<4.0.0,>=3.3.1->glennopt) (1.4.3)\n",
            "Requirement already satisfied: fonttools>=4.22.0 in /usr/local/lib/python3.7/dist-packages (from matplotlib<4.0.0,>=3.3.1->glennopt) (4.33.3)\n",
            "Requirement already satisfied: cycler>=0.10 in /usr/local/lib/python3.7/dist-packages (from matplotlib<4.0.0,>=3.3.1->glennopt) (0.11.0)\n",
            "Requirement already satisfied: packaging>=20.0 in /usr/local/lib/python3.7/dist-packages (from matplotlib<4.0.0,>=3.3.1->glennopt) (21.3)\n",
            "Requirement already satisfied: pyparsing>=2.2.1 in /usr/local/lib/python3.7/dist-packages (from matplotlib<4.0.0,>=3.3.1->glennopt) (3.0.9)\n",
            "Requirement already satisfied: typing-extensions in /usr/local/lib/python3.7/dist-packages (from kiwisolver>=1.0.1->matplotlib<4.0.0,>=3.3.1->glennopt) (4.1.1)\n",
            "Requirement already satisfied: six>=1.5 in /usr/local/lib/python3.7/dist-packages (from python-dateutil>=2.7->matplotlib<4.0.0,>=3.3.1->glennopt) (1.15.0)\n",
            "Requirement already satisfied: typing-inspect>=0.4.0 in /usr/local/lib/python3.7/dist-packages (from dataclasses_json->glennopt) (0.7.1)\n",
            "Requirement already satisfied: marshmallow-enum<2.0.0,>=1.5.1 in /usr/local/lib/python3.7/dist-packages (from dataclasses_json->glennopt) (1.5.1)\n",
            "Requirement already satisfied: marshmallow<4.0.0,>=3.3.0 in /usr/local/lib/python3.7/dist-packages (from dataclasses_json->glennopt) (3.17.0)\n",
            "Requirement already satisfied: mypy-extensions>=0.3.0 in /usr/local/lib/python3.7/dist-packages (from typing-inspect>=0.4.0->dataclasses_json->glennopt) (0.4.3)\n",
            "Requirement already satisfied: scipy in /usr/local/lib/python3.7/dist-packages (from diversipy->glennopt) (1.4.1)\n",
            "Requirement already satisfied: pytz>=2017.3 in /usr/local/lib/python3.7/dist-packages (from pandas->glennopt) (2022.1)\n",
            "Requirement already satisfied: scikit-learn in /usr/local/lib/python3.7/dist-packages (from sklearn->glennopt) (1.0.2)\n",
            "Requirement already satisfied: threadpoolctl>=2.0.0 in /usr/local/lib/python3.7/dist-packages (from scikit-learn->sklearn->glennopt) (3.1.0)\n",
            "Requirement already satisfied: joblib>=0.11 in /usr/local/lib/python3.7/dist-packages (from scikit-learn->sklearn->glennopt) (1.1.0)\n"
          ]
        }
      ],
      "metadata": {
        "id": "G82fsy9HS71f",
        "outputId": "170a6ac9-8404-4753-f2a0-fa26a3c5f04f",
        "colab": {
          "base_uri": "https://localhost:8080/"
        }
      }
    },
    {
      "cell_type": "markdown",
      "source": [
        "#Folder Structure and Evaluation Script"
      ],
      "metadata": {
        "id": "v85eBtEUhf6m"
      }
    },
    {
      "cell_type": "markdown",
      "source": [
        "###Initial folder structure\n",
        "```\n",
        "Evaluation\n",
        "| - evaluate.py     (Gets copied to each individual directory)\n",
        "multi-objective_example.ipynb\n",
        "machinefile.txt (Optional, add this if you want to breakdown hosts per evaluation)\n",
        "```\n",
        "\n",
        "###After optimization\n",
        "```\n",
        "Calculation\n",
        "| - DOE\n",
        "| -- IND000\n",
        "| ----- input.txt   (Generated by optimizer)\n",
        "| ----- evaluate.py (Executes the cfd and reads results)\n",
        "| ----- output.txt  (Generated by evaluate.py)\n",
        "| -- ...\n",
        "| -- IND128\n",
        "| - POP000\n",
        "| -- IND000\n",
        "| -- ...\n",
        "| -- IND039\n",
        "Evaluation\n",
        "| - evaluate.py     (Gets copied to each individual directory)\n",
        "multi-objective_example.ipynb\n",
        "machinefile.txt (Optional, add this if you want to break down hosts per evaluation)\n",
        "```\n",
        "Note: Glennopt constructs the calculation folder automatically. Each population is saved as DOE or as POPXXX. This is done so that when you are running a Computational Fluid Simulation or any kind of optimization where crashes could occur, you can investigate why the simulation crashed.\n",
        "\n",
        "Also if there are any additional post processing that needs to be done, by saving the evaluations this way, it is also possible to re-process the files differently and restart the optimization. **Restarts** will be shown in a later section.\n"
      ],
      "metadata": {
        "id": "yiA7Q1xxhnyk"
      }
    },
    {
      "cell_type": "markdown",
      "source": [
        "##Evaluation Script\n",
        "You may have noticed that when in earler codes the github folder is cloned and part of it was copied and the rest of it was deleted. This is done to import the evaluation script found in Evaluation/evaluate.py\n",
        "\n",
        "The purpose of this script is to call the Kursawe function (kur.py) to perform a single execution. The inputs will be read from an input.dat file and output to output.txt. See `read_input` and `print_output` functions\n",
        "\n",
        "---\n",
        "```\n",
        "# evaluation.py\n",
        "def read_input(input_filename):\n",
        "    x = []\n",
        "    with open(input_filename, \"r\") as f: \n",
        "        for line in f:\n",
        "            split_val = line.split('=')\n",
        "            if len(split_val)==2: # x1 = 2 # Grab the 2\n",
        "                x.append(float(split_val[1]))\n",
        "    return x\n",
        " \n",
        "def print_output(y):\n",
        "    with open(\"output.txt\", \"w\") as f:        \n",
        "        f.write('objective1 = {0:.6f}\\n'.format(y[0])) # Output should contain [Name of the Objective/Parameter] = [value] This is read by the optimizer \n",
        "        f.write('objective2 = {0:.6f}\\n'.format(y[1]))\n",
        "        f.write('p1 = {0:.6f}\\n'.format(y[2]))\n",
        "        f.write('p2 = {0:.6f}\\n'.format(y[3]))\n",
        "        f.write('p3 = {0:.6f}\\n'.format(y[4]))\n",
        "        # f.write('Objective2 = {0:.6f}\\n'.format(y))\n",
        " \n",
        "if __name__ == '__main__':\n",
        "    x = read_input(\"input.dat\")\n",
        "    # Call Rosebrock test function \n",
        "    import kur as kur\n",
        "    y = kur.KUR(x[0],x[1],x[2])\n",
        "    print_output(y)\n",
        "```\n",
        "## Kursawe Function\n",
        "This is the kursawe function copied from wikipedia\n",
        "```\n",
        "# kur.py\n",
        "import math\n",
        "\n",
        "def KUR(x1,x2,x3):\n",
        "    '''\n",
        "        Kursawe Function\n",
        "        mutiple output\n",
        "    '''\n",
        "    f1 = (-10*math.exp(-0.2*math.sqrt(x1*x1+x2*x2))) + (-10*math.exp(-0.2*math.sqrt(x2*x2+x3*x3)))\n",
        "\n",
        "    f2 = (math.pow(abs(x1),0.8)+5*math.sin(x1*x1*x1))+(math.pow(abs(x2),0.8)+5*math.sin(x2*x2*x2))+(math.pow(abs(x3),0.8)+5*math.sin(x3*x3*x3))\n",
        "    # Performance Parameter\n",
        "    p1 = x1 + x2 + x3\n",
        "    p2 = x1*x2*x3\n",
        "    p3 = x1 - x2 - x3\n",
        "    return f1,f2,p1,p2,p3\n",
        "```\n",
        "\n",
        "\n"
      ],
      "metadata": {
        "id": "kHenLEAjoIMT"
      }
    },
    {
      "cell_type": "markdown",
      "source": [
        "#Optimization"
      ],
      "metadata": {
        "id": "gsvodYmMhZEB"
      }
    },
    {
      "cell_type": "markdown",
      "source": [
        "Import relevant libraries"
      ],
      "metadata": {
        "id": "Mm7Az99Hm0ZA"
      }
    },
    {
      "cell_type": "code",
      "execution_count": 1,
      "source": [
        "import sys,os\n",
        "from glennopt.base import Parameter\n",
        "from glennopt.helpers import mutation_parameters, de_mutation_type\n",
        "from glennopt.optimizers import NSGA3\n",
        "from glennopt.DOE import Default,CCD,FullFactorial,LatinHyperCube"
      ],
      "outputs": [],
      "metadata": {
        "id": "hvsEjIEQURPF"
      }
    },
    {
      "cell_type": "code",
      "execution_count": 2,
      "source": [
        "# Clean up\n",
        "!rm -r Calculation  # Remove the calculation folder, lets start from scratch\n",
        "!rm *.csv *.log     # Remove the restart file and any log files generated"
      ],
      "outputs": [
        {
          "output_type": "stream",
          "name": "stdout",
          "text": [
            "rm: cannot remove 'Calculation': No such file or directory\n",
            "rm: cannot remove '*.csv': No such file or directory\n",
            "rm: cannot remove '*.log': No such file or directory\n"
          ]
        }
      ],
      "metadata": {
        "id": "X5pwbjp6STEL",
        "outputId": "764e5851-aec7-4dc3-d7ea-d9c9d7251c67",
        "colab": {
          "base_uri": "https://localhost:8080/"
        }
      }
    },
    {
      "cell_type": "markdown",
      "source": [
        "**Evaluation Parameters**: are required. This is the vector of variables that goes into your objective function.\n",
        "\n",
        "**Objectives**: number of objectives to solve for\n",
        "\n",
        "**Performance Parameters**: this is not required but I set this up for reference"
      ],
      "metadata": {
        "id": "X8CFj5xpg7j3"
      }
    },
    {
      "cell_type": "code",
      "execution_count": 3,
      "source": [
        "# Initialize the DOE\n",
        "# doe = CCD()\n",
        "doe = FullFactorial(levels=8)\n",
        "# doe = LatinHyperCube(128)\n",
        "\n",
        "doe.add_parameter(name=\"x1\",min_value=-5,max_value=5)\n",
        "doe.add_parameter(name=\"x2\",min_value=-5,max_value=5)\n",
        "doe.add_parameter(name=\"x3\",min_value=-5,max_value=5)\n",
        "\n",
        "doe.add_objectives(name='objective1')\n",
        "doe.add_objectives(name='objective2')\n",
        "\n",
        "# No performance Parameters\n",
        "doe.add_perf_parameter(name='p1')\n",
        "doe.add_perf_parameter(name='p2')\n",
        "doe.add_perf_parameter(name='p2')\n"
      ],
      "outputs": [],
      "metadata": {
        "id": "arNMkiHynevz"
      }
    },
    {
      "cell_type": "code",
      "execution_count": 10,
      "source": [
        "# Initialize the Optimizer\n",
        "pop_size=32\n",
        "current_dir = os.getcwd()\n",
        "ns = NSGA3(eval_command = \"python evaluation.py\", eval_folder=\"Evaluation\",pop_size=pop_size,optimization_folder=current_dir)\n",
        "\n",
        "ns.add_objectives(objectives=doe.objectives)\n",
        "ns.add_eval_parameters(eval_params=doe.eval_parameters)\n",
        "ns.add_performance_parameters(performance_params= doe.perf_parameters)"
      ],
      "outputs": [],
      "metadata": {
        "id": "B6O8CIpZRBhT"
      }
    },
    {
      "cell_type": "markdown",
      "source": [
        "**If you want other mutaton strategies or crossover strategies just add an issue to the github and provide as many references and examples as possible. We will try to incorporate them. **"
      ],
      "metadata": {
        "id": "8VeKNnzFq2hZ"
      }
    },
    {
      "cell_type": "code",
      "execution_count": 11,
      "source": [
        "# Set the mutation parameters\n",
        "ns.mutation_params.mutation_type = de_mutation_type.de_rand_1_bin   # Choice of de_best_1_bin (single objective) or de_rand_1_bin (multi-objective)\n",
        "ns.mutation_params.F = 0.8\n",
        "ns.mutation_params.C = 0.7\n",
        "\n",
        "# Parallel Settings (You don't need to run this block if you only want serial execution)\n",
        "ns.parallel_settings.concurrent_executions = 8    # Change to 1 for serial\n",
        "ns.parallel_settings.cores_per_execution = 1    \n",
        "ns.parallel_settings.execution_timeout = 0.2      # minutes"
      ],
      "outputs": [],
      "metadata": {
        "id": "o8vGLFkHnmAz"
      }
    },
    {
      "cell_type": "markdown",
      "source": [
        "Enable Parallel Execution (OPTIONAL) "
      ],
      "metadata": {
        "id": "rZTXHADuN8O6"
      }
    },
    {
      "cell_type": "code",
      "execution_count": 12,
      "source": [
        "# Parallel Settings (You don't need to run this block if you only want serial execution)\n",
        "ns.parallel_settings.concurrent_executions = 8    # Change to 1 for serial\n",
        "ns.parallel_settings.cores_per_execution = 1    \n",
        "ns.parallel_settings.execution_timeout = 0.2      # minutes"
      ],
      "outputs": [],
      "metadata": {
        "id": "VMoA-2bbpN8u"
      }
    },
    {
      "cell_type": "markdown",
      "source": [
        "##Run the Design of Experiments\n",
        "Design of experiments is used to sample the evaluation space. Say you have 5 variables and f(x[1-5]) = y[1,2] and each x1 through x5 have min and max bounds. The design of experiments is used to evaluate different combinations of x1 to x5 which are used as the starting population (pop_start=-1) "
      ],
      "metadata": {
        "id": "qhFjdeCXRr2c"
      }
    },
    {
      "cell_type": "code",
      "execution_count": 13,
      "source": [
        "# Generate the DOE and start the optimization\n",
        "ns.start_doe(doe.generate_doe())"
      ],
      "outputs": [
        {
          "output_type": "stream",
          "name": "stderr",
          "text": [
            "100%|██████████| 512/512 [00:00<00:00, 18173.29it/s]\n"
          ]
        }
      ],
      "metadata": {
        "id": "quXqm1SLqpD4",
        "outputId": "dcd9d976-41e5-4b8c-ed40-7008691c8d83",
        "colab": {
          "base_uri": "https://localhost:8080/"
        }
      }
    },
    {
      "cell_type": "code",
      "execution_count": 14,
      "source": [
        "# Execute the Optimization\n",
        "ns.optimize_from_population(pop_start=-1,n_generations=25)    # Start from the DOE and iterate from pop 0 to 24"
      ],
      "outputs": [],
      "metadata": {
        "id": "CkmTt9tDV8rg"
      }
    },
    {
      "cell_type": "markdown",
      "source": [
        "###Restarting the Simulation from a previous restart file\n"
      ],
      "metadata": {
        "id": "9yA36UO9rD_5"
      }
    },
    {
      "cell_type": "code",
      "execution_count": 15,
      "source": [
        "ns.optimize_from_population(pop_start=24,n_generations=25)    # Start from the DOE and iterate from pop 24 to 49"
      ],
      "outputs": [],
      "metadata": {
        "id": "TDK2O8fArmhc"
      }
    },
    {
      "cell_type": "markdown",
      "source": [
        "##Generating a restart file\n",
        "Just in case you accidentally deleted it"
      ],
      "metadata": {
        "id": "vlfUROt0rsre"
      }
    },
    {
      "cell_type": "code",
      "execution_count": 16,
      "source": [
        "!rm restart_file.csv\n",
        "ns.read_calculation_folder()\n",
        "ns.create_restart() # Appends/creates a new restart file"
      ],
      "outputs": [],
      "metadata": {
        "id": "S2k2y2LLryXn"
      }
    },
    {
      "cell_type": "markdown",
      "source": [
        "## Generating a Tecplot file "
      ],
      "metadata": {
        "id": "uGDlYa3UoYmC"
      }
    },
    {
      "cell_type": "code",
      "source": [
        "ns.read_calculation_folder()\n",
        "ns.to_tecplot()"
      ],
      "metadata": {
        "id": "ReCvyrEToTSw"
      },
      "execution_count": 17,
      "outputs": []
    },
    {
      "cell_type": "markdown",
      "source": [
        "##Plotting the Pareto Front\n",
        "\n",
        "\n",
        "\n"
      ],
      "metadata": {
        "id": "RfaRcZ8vux67"
      }
    },
    {
      "cell_type": "markdown",
      "source": [
        "You can make the plots using the glennopt or you can create animated plots of the pareto front"
      ],
      "metadata": {
        "id": "iu3PWtg9JOHk"
      }
    },
    {
      "cell_type": "code",
      "execution_count": null,
      "source": [
        "ns.read_calculation_folder()\n",
        "ns.plot_2D('objective1','objective2',[-20,0],[-15,20])"
      ],
      "outputs": [],
      "metadata": {
        "id": "Xij92h7Cu5aR"
      }
    },
    {
      "cell_type": "markdown",
      "source": [
        "###Animated Plot\n",
        "This is an example of an animated plot. It may take a while to run depending on the number of frames and the interval"
      ],
      "metadata": {
        "id": "fyfv9uvxJYpo"
      }
    },
    {
      "cell_type": "code",
      "execution_count": null,
      "source": [
        "import matplotlib.pyplot as plt\n",
        "import matplotlib.cm as cm\n",
        "from matplotlib import animation, rc\n",
        "from IPython.display import HTML\n",
        "import numpy as np\n",
        "\n",
        "num_frames = 150\n",
        "\n",
        "xlim = [-20,0]\n",
        "ylim = [-15,20]\n",
        "obj1_name = 'objective1'\n",
        "obj2_name = 'objective2'\n",
        "\n",
        "ns.read_calculation_folder()\n",
        "\n",
        "fig,ax = plt.subplots(figsize=(10,6), dpi=80, facecolor='w', edgecolor='k')\n",
        "\n",
        "keys = list(ns.pandas_cache.keys())\n",
        "keys.sort()\n",
        "nPop = len(list(ns.pandas_cache.keys()))\n",
        "divisor = num_frames/nPop\n",
        "def init():  \n",
        "  data = get_data(0)\n",
        "  pop_scatter = ax.scatter(data[:,0],data[:,1],s=20,alpha=0.5)\n",
        "  ax.set_xlim(xlim[0],xlim[1])\n",
        "  ax.set_ylim(ylim[0],ylim[1])  \n",
        "  ax.set_xlabel(obj1_name)\n",
        "  ax.set_ylabel(obj2_name)\n",
        "  #pop_scatter.set_array(np.array([]))\n",
        "  return pop_scatter,\n",
        "\n",
        "def get_data(pop):  \n",
        "  key = keys[pop]\n",
        "  obj_data = list()\n",
        "  for index, row in ns.pandas_cache[key].iterrows():\n",
        "    obj_data.append([row[obj1_name],row[obj2_name]])\n",
        "  return np.array(obj_data)\n",
        "\n",
        "def animate(pop):\n",
        "  pop = int(pop/divisor)\n",
        "  data = get_data(pop)\n",
        "  pop_scatter = ax.scatter(data[:,0],data[:,1],s=20,alpha=0.5)  \n",
        "  ax.legend([str(pop)])\n",
        "  return pop_scatter,\n",
        "\n",
        "anim = animation.FuncAnimation(fig, animate, init_func=init,\n",
        "                                frames=num_frames, interval=10, blit=True)\n",
        "HTML(anim.to_html5_video())"
      ],
      "outputs": [],
      "metadata": {
        "id": "bQ_ybbsTyfaA"
      }
    },
    {
      "cell_type": "markdown",
      "source": [
        "#Visualization\n"
      ],
      "metadata": {
        "id": "omYSOHD4trDs"
      }
    },
    {
      "cell_type": "markdown",
      "source": [
        "Getting the best objective value vs population. This is useful to see if the objective is changing as population increases"
      ],
      "metadata": {
        "id": "vc9sZaGPuFQe"
      }
    },
    {
      "cell_type": "code",
      "execution_count": null,
      "source": [
        "from glennopt.base import Individual\n",
        "from glennopt.helpers import get_best,get_pop_best\n",
        "import matplotlib.pyplot as plt\n",
        "import matplotlib.cm as cm\n",
        "import numpy as np\n",
        "\n",
        "individuals = ns.read_calculation_folder()\n",
        "\n",
        "best_individuals, best_fronts = get_pop_best(individuals)\n",
        "# pop size is the size of population to keep track of when applying non-dimensional sorting. Larger the size = greater the slow down\n",
        "objectives, pop, best_fronts = get_best(individuals,pop_size=30) \n",
        "print(objectives.shape)"
      ],
      "outputs": [],
      "metadata": {
        "id": "mcCSLcK9tzz1"
      }
    },
    {
      "cell_type": "markdown",
      "source": [
        "## Plotting the best objective vs population"
      ],
      "metadata": {
        "id": "p8RONFaKWgYV"
      }
    },
    {
      "cell_type": "code",
      "execution_count": null,
      "source": [
        "objective_index = 1\n",
        "_, ax = plt.subplots()    \n",
        "ax.scatter(pop, objectives[:,objective_index],color='blue',s=10)\n",
        "ax.set_xlabel('Population')\n",
        "ax.set_ylabel('Objective {0} Value'.format(objective_index))\n",
        "plt.show()"
      ],
      "outputs": [],
      "metadata": {
        "id": "TxfyHYiqWjuF"
      }
    },
    {
      "cell_type": "markdown",
      "source": [
        "#Plotting the best individual in each population"
      ],
      "metadata": {
        "id": "-4YtLpZGWyWR"
      }
    },
    {
      "cell_type": "code",
      "execution_count": null,
      "source": [
        "nobjectives = len(best_individuals[0][0].objectives)\n",
        "objective_data = list()\n",
        "for pop,best_individual in best_individuals.items():\n",
        "    objective_data.append(best_individual[objective_index].objectives[objective_index])\n",
        "\n",
        "_,ax = plt.subplots()\n",
        "colors = cm.rainbow(np.linspace(0, 1, len(best_individuals.keys())))\n",
        "ax.scatter(list(best_individuals.keys()), objective_data, color='blue',s=10)\n",
        "ax.set_xlabel('Population')\n",
        "ax.set_ylabel('Objective {0} Value'.format(objective_index))\n",
        "ax.set_title('Best individual at each population')\n",
        "plt.show()"
      ],
      "outputs": [],
      "metadata": {
        "id": "PDdAiojKW1Sr"
      }
    },
    {
      "cell_type": "markdown",
      "source": [
        "##Plot the Pareto Front\n",
        "The pareto front shows a trade off between two objective values. As the optimization advances to the next population, the individuals get closer to the minimum of both objectives and yields designs that are a compromise between the two. "
      ],
      "metadata": {
        "id": "aISd53HiW7S1"
      }
    },
    {
      "cell_type": "code",
      "execution_count": null,
      "source": [
        "best_fronts = [front for _,front in sorted(zip(pop,best_fronts))]   # dictionary keys aren't sorted. this cleans up some stuff. \n",
        "pop = sorted(pop)\n",
        "\n",
        "fig,ax = plt.subplots(figsize=(10,8))\n",
        "\n",
        "colors = cm.rainbow(np.linspace(0, 1, len(best_fronts)))        \n",
        "indx = 0\n",
        "legend_labels = []\n",
        "# Scan the pandas file, grab objectives for each population\n",
        "for ind_list in best_fronts:\n",
        "    obj1_data = []\n",
        "    obj2_data = []\n",
        "    c=colors[indx]\n",
        "    for ind in ind_list[0]:\n",
        "        obj1_data.append(ind.objectives[0])\n",
        "        obj2_data.append(ind.objectives[1])\n",
        "    # Plot the gathered data\n",
        "    ax.scatter(obj1_data, obj2_data, color=c, s=20,alpha=0.5)\n",
        "    legend_labels.append(pop[indx])\n",
        "    indx+=1\n",
        "\n",
        "ax.set_xlabel('Objective 1')\n",
        "ax.set_ylabel('Objective 2')\n",
        "ax.set_title('Non-dimensional sorting: Best Front for each population')\n",
        "ax.legend(legend_labels)\n",
        "fig.canvas.draw()\n",
        "fig.canvas.flush_events()\n",
        "plt.show()"
      ],
      "outputs": [],
      "metadata": {
        "id": "axlDva1iW-0n"
      }
    }
  ]
}