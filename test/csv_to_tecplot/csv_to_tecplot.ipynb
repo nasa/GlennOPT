{
 "cells": [
  {
   "attachments": {},
   "cell_type": "markdown",
   "metadata": {},
   "source": [
    "# Converting a CSV to Tecplot\n",
    "This tutorial shows to take a simple CVS File exported by pandas and convert it to a tecplot file."
   ]
  },
  {
   "cell_type": "code",
   "execution_count": 9,
   "metadata": {},
   "outputs": [
    {
     "name": "stdout",
     "output_type": "stream",
     "text": [
      "['Unnamed: 0', 'rotor_profile_1_inlet_flow_angle', 'rotor_profile_1_exit_flow_angle', 'rotor_profile_1_cax', 'rotor_profile_1_stagger', 'rotor_profile_1_LE_thickness', 'rotor_profile_1_PS_1', 'rotor_profile_1_PS_2', 'rotor_profile_1_PS_3', 'rotor_profile_1_SS_1', 'rotor_profile_1_SS_2', 'rotor_profile_1_SS_3', 'rotor_profile_1_SS_4', 'rotor_profile_1_camberpercent', 'rotor_profile_1_TE_radius', 'rotor_profile_1_ss_wedge', 'rotor_profile_1_ps_wedge', 'rotor_profile_2_inlet_flow_angle', 'rotor_profile_2_exit_flow_angle', 'rotor_profile_2_cax', 'rotor_profile_2_stagger', 'rotor_profile_2_LE_thickness', 'rotor_profile_2_PS_1', 'rotor_profile_2_PS_2', 'rotor_profile_2_PS_3', 'rotor_profile_2_SS_1', 'rotor_profile_2_SS_2', 'rotor_profile_2_SS_3', 'rotor_profile_2_SS_4', 'rotor_profile_2_camberpercent', 'rotor_profile_2_TE_radius', 'rotor_profile_2_ss_wedge', 'rotor_profile_2_ps_wedge', 'rotor_profile_3_inlet_flow_angle', 'rotor_profile_3_exit_flow_angle', 'rotor_profile_3_cax', 'rotor_profile_3_stagger', 'rotor_profile_3_LE_thickness', 'rotor_profile_3_PS_1', 'rotor_profile_3_PS_2', 'rotor_profile_3_PS_3', 'rotor_profile_3_SS_1', 'rotor_profile_3_SS_2', 'rotor_profile_3_SS_3', 'rotor_profile_3_SS_4', 'rotor_profile_3_camberpercent', 'rotor_profile_3_TE_radius', 'rotor_profile_3_ss_wedge', 'rotor_profile_3_ps_wedge', 'rotor_3D_profile_2_loc', 'rotor_3D_lean1', 'rotor_3D_lean2', 'rotor_3D_lean_loc', 'channel_rmean', 'channel_inlet_height', 'channel_shroud_expansion_1', 'channel_hub_expansion_1', 'channel_shroud_expansion_2', 'channel_hub_expansion_2', 'channel_shroud_exp_axial_1', 'channel_hub_exp_axial_1', 'channel_shroud_exp_axial_2', 'channel_hub_exp_axial_2', '01_gamma', '01_R_ref', '01_MW_ref', '01_T_ref', '01_rho_ref', '01_ref_len', '01_ref_vel', '01_IdealGasConst', '01_AngularVelocityRadPSec', '01_Radius', '01_theta', '01_AngularVelocity', '01_Vx', '01_Vy', '01_Vz', '01_Density', '01_Energy', '01_VelocityMagnitude', '01_StaticPressure', '01_StaticTemperature', '01_Mach', '01_TotalPressure', '01_TotalTemperature', '01_dynamic_visc', '01_Vr', '01_Vth', '01_FlowAngle', '01_Cp', '01_Cv', '02_gamma', '02_R_ref', '02_MW_ref', '02_T_ref', '02_rho_ref', '02_ref_len', '02_ref_vel', '02_IdealGasConst', '02_AngularVelocityRadPSec', '02_Radius', '02_theta', '02_AngularVelocity', '02_Vx', '02_Vy', '02_Vz', '02_Density', '02_Energy', '02_VelocityMagnitude', '02_StaticPressure', '02_StaticTemperature', '02_Mach', '02_TotalPressure', '02_TotalTemperature', '02_dynamic_visc', '02_Vr', '02_Vth', '02_FlowAngle', '02_Cp', '02_Cv', 'V2s', 'dH', 'power', 'Re_cax', 'T2s', 'Ploss', 'kinetic_loss1', 'kinetic_loss2', 'Turning', 'objective1', 'objective2', 'population', 'individual', 'folder', 'num_blades', 'P0_convergence', 'deltaEntropy', 'P0_P2', 'hub_tip_ratio_01', 'hub_tip_ratio_02', 'beta1_avg', 'beta2_avg', 'L1_deltaEntropy_loss', 'L1_ploss_loss', 'L1_exitflowangle_loss']\n",
      "Unnamed: 0                                  0\n",
      "rotor_profile_1_inlet_flow_angle    38.963252\n",
      "rotor_profile_1_exit_flow_angle     50.763988\n",
      "rotor_profile_1_cax                  3.206666\n",
      "rotor_profile_1_stagger             31.430026\n",
      "                                      ...    \n",
      "beta1_avg                           40.402391\n",
      "beta2_avg                            56.87199\n",
      "L1_deltaEntropy_loss                 7.132407\n",
      "L1_ploss_loss                         0.11601\n",
      "L1_exitflowangle_loss               19.373823\n",
      "Name: 0, Length: 146, dtype: object\n"
     ]
    }
   ],
   "source": [
    "import pandas as pd\n",
    "df = pd.read_csv('test.csv')\n",
    "print(list(df.columns))\n",
    "df.head()\n",
    "\n",
    "print(df.iloc[0])"
   ]
  },
  {
   "cell_type": "code",
   "execution_count": null,
   "metadata": {},
   "outputs": [],
   "source": [
    "!pip install glennopt # Install glennopt for this example"
   ]
  },
  {
   "attachments": {},
   "cell_type": "markdown",
   "metadata": {},
   "source": [
    "When creating the dataframe, you need to have a column called \"individual\" this code uses that to create different zones. If you don't have the column, you can add in a dummy column using `df['individual']=np.arange(0,len(df))` this will create an index column."
   ]
  },
  {
   "cell_type": "code",
   "execution_count": 13,
   "metadata": {},
   "outputs": [],
   "source": [
    "from glennopt.optimizers.nsga3 import NSGA3\n",
    "import pandas as pd\n",
    "\n",
    "df = pd.read_csv('test.csv')\n",
    "df = df.drop(columns=['population','folder']) \n",
    "NSGA3.df_to_tecplot({'dummy_name':df},'tecplot_output.tec')"
   ]
  },
  {
   "cell_type": "markdown",
   "metadata": {},
   "source": []
  }
 ],
 "metadata": {
  "kernelspec": {
   "display_name": "tf2",
   "language": "python",
   "name": "python3"
  },
  "language_info": {
   "codemirror_mode": {
    "name": "ipython",
    "version": 3
   },
   "file_extension": ".py",
   "mimetype": "text/x-python",
   "name": "python",
   "nbconvert_exporter": "python",
   "pygments_lexer": "ipython3",
   "version": "3.10.8"
  },
  "orig_nbformat": 4,
  "vscode": {
   "interpreter": {
    "hash": "2f8768af6f2432629ed2c7b1bb9f42f06f05a0e0aa992f83897492e57b393a9f"
   }
  }
 },
 "nbformat": 4,
 "nbformat_minor": 2
}
